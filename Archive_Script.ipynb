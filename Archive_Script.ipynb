{
 "cells": [
  {
   "cell_type": "code",
   "execution_count": 57,
   "metadata": {
    "collapsed": true
   },
   "outputs": [],
   "source": [
    "import functions"
   ]
  },
  {
   "cell_type": "code",
   "execution_count": 58,
   "metadata": {
    "collapsed": true
   },
   "outputs": [],
   "source": [
    "from archapp.interactive import EpicsArchive"
   ]
  },
  {
   "cell_type": "markdown",
   "metadata": {},
   "source": [
    "- Create an object calling the EpicsArchive class in interactive.py\n",
    "\n",
    "- Get data for a PV by using get function in EpicsArchive\n",
    "    data = object_name.get(\"pv_name\" or [\"pv1\",\"pv2\",...\"pvn\"],\n",
    "    xarray=True)\n",
    "  data is returned in xarray\n",
    "  Look at interactive.py for function arguements\n",
    "\n",
    "- NOTE: values in sevr and stat are indicies in the sevr_enum list and stat_enum list in epics.py"
   ]
  },
  {
   "cell_type": "code",
   "execution_count": 59,
   "metadata": {
    "collapsed": true
   },
   "outputs": [],
   "source": [
    "arch = EpicsArchive()"
   ]
  },
  {
   "cell_type": "code",
   "execution_count": 65,
   "metadata": {
    "collapsed": true
   },
   "outputs": [],
   "source": [
    "data = arch.get(\"MIRR:FEE1:M2H:RBV\", start=0.00004, xarray=True)"
   ]
  },
  {
   "cell_type": "code",
   "execution_count": 67,
   "metadata": {},
   "outputs": [
    {
     "data": {
      "text/plain": [
       "time\n",
       "2017-08-08 08:48:18.527714048    120.097\n",
       "2017-08-08 08:48:21.860997888     120.06\n",
       "2017-08-08 08:48:21.961709056    120.065\n",
       "2017-08-08 08:48:22.062825984    120.093\n",
       "2017-08-08 08:48:22.163717120     120.06\n",
       "2017-08-08 08:48:22.264839936    120.122\n",
       "2017-08-08 08:48:22.365714944    120.167\n",
       "2017-08-08 08:48:22.466813952    120.126\n",
       "2017-08-08 08:48:22.567705088    120.196\n",
       "2017-08-08 08:48:22.668862976    120.114\n",
       "2017-08-08 08:48:22.769748992    120.126\n",
       "2017-08-08 08:48:22.871054080    120.108\n",
       "Name: MIRR:FEE1:M2H:RBV, dtype: object"
      ]
     },
     "execution_count": 67,
     "metadata": {},
     "output_type": "execute_result"
    }
   ],
   "source": [
    "data['MIRR:FEE1:M2H:RBV']['vals']"
   ]
  },
  {
   "cell_type": "code",
   "execution_count": 68,
   "metadata": {},
   "outputs": [
    {
     "name": "stdout",
     "output_type": "stream",
     "text": [
      "Mean:             120.11106173197429\n",
      "Standard Deviation: 0.03962539799278232\n",
      "Variance:           0.0015701721660863971\n"
     ]
    }
   ],
   "source": [
    "functions.stats(data['MIRR:FEE1:M2H:RBV']['vals'])"
   ]
  },
  {
   "cell_type": "code",
   "execution_count": null,
   "metadata": {
    "collapsed": true
   },
   "outputs": [],
   "source": []
  }
 ],
 "metadata": {
  "kernelspec": {
   "display_name": "Python 3",
   "language": "python",
   "name": "python3"
  },
  "language_info": {
   "codemirror_mode": {
    "name": "ipython",
    "version": 3
   },
   "file_extension": ".py",
   "mimetype": "text/x-python",
   "name": "python",
   "nbconvert_exporter": "python",
   "pygments_lexer": "ipython3",
   "version": "3.6.1"
  }
 },
 "nbformat": 4,
 "nbformat_minor": 2
}
