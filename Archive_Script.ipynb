{
 "cells": [
  {
   "cell_type": "code",
   "execution_count": 1,
   "metadata": {},
   "outputs": [],
   "source": [
    "from archapp import interactive"
   ]
  },
  {
   "cell_type": "code",
   "execution_count": 2,
   "metadata": {
    "collapsed": true
   },
   "outputs": [],
   "source": [
    "from archapp.interactive import EpicsArchive"
   ]
  },
  {
   "cell_type": "markdown",
   "metadata": {},
   "source": [
    "- Create an object calling the EpicsArchive class in interactive.py\n",
    "\n",
    "- Get data for a PV by using get function in EpicsArchive\n",
    "    data = object_name.get(\"pv_name\" or [\"pv1\",\"pv2\",...\"pvn\"],\n",
    "    xarray=True)\n",
    "  data is returned in xarray\n",
    "  Look at interactive.py for function arguements\n",
    "\n",
    "- Convert to Pandas Dataframe by data.to_dataframe()\n",
    "\n",
    "- NOTE: values in sevr and stat are indicies in the sevr_enum list and stat_enum list in epics.py"
   ]
  },
  {
   "cell_type": "code",
   "execution_count": 3,
   "metadata": {
    "collapsed": true
   },
   "outputs": [],
   "source": [
    "arch = EpicsArchive()"
   ]
  },
  {
   "cell_type": "code",
   "execution_count": 4,
   "metadata": {
    "collapsed": true
   },
   "outputs": [],
   "source": [
    "data = arch.get(\"GDET:FEE1:241:ENRC\", start=0.00004, xarray=True)"
   ]
  },
  {
   "cell_type": "code",
   "execution_count": 5,
   "metadata": {},
   "outputs": [
    {
     "data": {
      "text/html": [
       "<div>\n",
       "<style>\n",
       "    .dataframe thead tr:only-child th {\n",
       "        text-align: right;\n",
       "    }\n",
       "\n",
       "    .dataframe thead th {\n",
       "        text-align: left;\n",
       "    }\n",
       "\n",
       "    .dataframe tbody tr th {\n",
       "        vertical-align: top;\n",
       "    }\n",
       "</style>\n",
       "<table border=\"1\" class=\"dataframe\">\n",
       "  <thead>\n",
       "    <tr style=\"text-align: right;\">\n",
       "      <th></th>\n",
       "      <th></th>\n",
       "      <th>GDET:FEE1:241:ENRC</th>\n",
       "    </tr>\n",
       "    <tr>\n",
       "      <th>field</th>\n",
       "      <th>time</th>\n",
       "      <th></th>\n",
       "    </tr>\n",
       "  </thead>\n",
       "  <tbody>\n",
       "    <tr>\n",
       "      <th rowspan=\"5\" valign=\"top\">vals</th>\n",
       "      <th>2017-08-07 13:59:59.374258688</th>\n",
       "      <td>-0.0227967</td>\n",
       "    </tr>\n",
       "    <tr>\n",
       "      <th>2017-08-07 14:01:07.859773952</th>\n",
       "      <td>-0.0669999</td>\n",
       "    </tr>\n",
       "    <tr>\n",
       "      <th>2017-08-07 14:01:08.810097920</th>\n",
       "      <td>-0.0963246</td>\n",
       "    </tr>\n",
       "    <tr>\n",
       "      <th>2017-08-07 14:01:09.760422144</th>\n",
       "      <td>-0.0377966</td>\n",
       "    </tr>\n",
       "    <tr>\n",
       "      <th>2017-08-07 14:01:10.710615040</th>\n",
       "      <td>0.286334</td>\n",
       "    </tr>\n",
       "    <tr>\n",
       "      <th rowspan=\"5\" valign=\"top\">sevr</th>\n",
       "      <th>2017-08-07 13:59:59.374258688</th>\n",
       "      <td>0</td>\n",
       "    </tr>\n",
       "    <tr>\n",
       "      <th>2017-08-07 14:01:07.859773952</th>\n",
       "      <td>0</td>\n",
       "    </tr>\n",
       "    <tr>\n",
       "      <th>2017-08-07 14:01:08.810097920</th>\n",
       "      <td>0</td>\n",
       "    </tr>\n",
       "    <tr>\n",
       "      <th>2017-08-07 14:01:09.760422144</th>\n",
       "      <td>0</td>\n",
       "    </tr>\n",
       "    <tr>\n",
       "      <th>2017-08-07 14:01:10.710615040</th>\n",
       "      <td>0</td>\n",
       "    </tr>\n",
       "    <tr>\n",
       "      <th rowspan=\"5\" valign=\"top\">stat</th>\n",
       "      <th>2017-08-07 13:59:59.374258688</th>\n",
       "      <td>0</td>\n",
       "    </tr>\n",
       "    <tr>\n",
       "      <th>2017-08-07 14:01:07.859773952</th>\n",
       "      <td>0</td>\n",
       "    </tr>\n",
       "    <tr>\n",
       "      <th>2017-08-07 14:01:08.810097920</th>\n",
       "      <td>0</td>\n",
       "    </tr>\n",
       "    <tr>\n",
       "      <th>2017-08-07 14:01:09.760422144</th>\n",
       "      <td>0</td>\n",
       "    </tr>\n",
       "    <tr>\n",
       "      <th>2017-08-07 14:01:10.710615040</th>\n",
       "      <td>0</td>\n",
       "    </tr>\n",
       "  </tbody>\n",
       "</table>\n",
       "</div>"
      ],
      "text/plain": [
       "                                    GDET:FEE1:241:ENRC\n",
       "field time                                            \n",
       "vals  2017-08-07 13:59:59.374258688         -0.0227967\n",
       "      2017-08-07 14:01:07.859773952         -0.0669999\n",
       "      2017-08-07 14:01:08.810097920         -0.0963246\n",
       "      2017-08-07 14:01:09.760422144         -0.0377966\n",
       "      2017-08-07 14:01:10.710615040           0.286334\n",
       "sevr  2017-08-07 13:59:59.374258688                  0\n",
       "      2017-08-07 14:01:07.859773952                  0\n",
       "      2017-08-07 14:01:08.810097920                  0\n",
       "      2017-08-07 14:01:09.760422144                  0\n",
       "      2017-08-07 14:01:10.710615040                  0\n",
       "stat  2017-08-07 13:59:59.374258688                  0\n",
       "      2017-08-07 14:01:07.859773952                  0\n",
       "      2017-08-07 14:01:08.810097920                  0\n",
       "      2017-08-07 14:01:09.760422144                  0\n",
       "      2017-08-07 14:01:10.710615040                  0"
      ]
     },
     "execution_count": 5,
     "metadata": {},
     "output_type": "execute_result"
    }
   ],
   "source": [
    "data.to_dataframe()"
   ]
  },
  {
   "cell_type": "code",
   "execution_count": null,
   "metadata": {
    "collapsed": true
   },
   "outputs": [],
   "source": []
  }
 ],
 "metadata": {
  "kernelspec": {
   "display_name": "Python 3",
   "language": "python",
   "name": "python3"
  },
  "language_info": {
   "codemirror_mode": {
    "name": "ipython",
    "version": 3
   },
   "file_extension": ".py",
   "mimetype": "text/x-python",
   "name": "python",
   "nbconvert_exporter": "python",
   "pygments_lexer": "ipython3",
   "version": "3.6.1"
  }
 },
 "nbformat": 4,
 "nbformat_minor": 2
}
